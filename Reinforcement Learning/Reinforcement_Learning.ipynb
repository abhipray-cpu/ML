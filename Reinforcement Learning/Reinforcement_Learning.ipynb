{
  "nbformat": 4,
  "nbformat_minor": 0,
  "metadata": {
    "colab": {
      "name": "Reinforcement Learning.ipynb",
      "provenance": [],
      "collapsed_sections": []
    },
    "kernelspec": {
      "name": "python3",
      "display_name": "Python 3"
    },
    "language_info": {
      "name": "python"
    }
  },
  "cells": [
    {
      "cell_type": "markdown",
      "metadata": {
        "id": "QHIXGVNnuB37"
      },
      "source": [
        "#This notebook contains all the tools that I will use for Reinforcement learning projects \n",
        "#Covers only two algorithms \n",
        "#1)UCB\n",
        "#2)Thompson Sampling\n",
        "\n",
        "#This is an option branch and will be covered in detail in the last Sem of college life after completing Deep learning"
      ]
    },
    {
      "cell_type": "code",
      "metadata": {
        "id": "GBSnWG0Fuamg"
      },
      "source": [
        "#importing libraries\n",
        "import numpy as np\n",
        "import pandas as pd\n",
        "import matplotlib.pyplot as plt\n",
        "import seaborn as sns\n",
        "import plotly.express as px"
      ],
      "execution_count": 1,
      "outputs": []
    },
    {
      "cell_type": "code",
      "metadata": {
        "id": "ZM-P5qkWu2ng"
      },
      "source": [
        "#this function will generate the dataset with all the information\n",
        "def generate_data(location:str,sample_number=10):\n",
        "  data=pd.read_csv(location,engine='python')\n",
        "  head=data.head()\n",
        "  tail=data.tail()\n",
        "  sample=data.sample(sample_number)\n",
        "  description=data.describe()\n",
        "  columns=data.columns\n",
        "  info=data.info()\n",
        "  shape=data.shape\n",
        "  size=data.size\n",
        "  return {'data':data,'head':head,'tail':tail,'sample':sample,'description':description,'columns':columns,'info':info,\n",
        "          'shape':shape,'size':size}"
      ],
      "execution_count": 2,
      "outputs": []
    },
    {
      "cell_type": "code",
      "metadata": {
        "colab": {
          "base_uri": "https://localhost:8080/"
        },
        "id": "uS-wAsVjvMQl",
        "outputId": "4c82ef22-9b01-492c-f8c2-852ab47daf9a"
      },
      "source": [
        "data_set=generate_data('/content/Ads_CTR_Optimisation.csv')"
      ],
      "execution_count": 3,
      "outputs": [
        {
          "output_type": "stream",
          "name": "stdout",
          "text": [
            "<class 'pandas.core.frame.DataFrame'>\n",
            "RangeIndex: 10000 entries, 0 to 9999\n",
            "Data columns (total 10 columns):\n",
            " #   Column  Non-Null Count  Dtype\n",
            "---  ------  --------------  -----\n",
            " 0   Ad 1    10000 non-null  int64\n",
            " 1   Ad 2    10000 non-null  int64\n",
            " 2   Ad 3    10000 non-null  int64\n",
            " 3   Ad 4    10000 non-null  int64\n",
            " 4   Ad 5    10000 non-null  int64\n",
            " 5   Ad 6    10000 non-null  int64\n",
            " 6   Ad 7    10000 non-null  int64\n",
            " 7   Ad 8    10000 non-null  int64\n",
            " 8   Ad 9    10000 non-null  int64\n",
            " 9   Ad 10   10000 non-null  int64\n",
            "dtypes: int64(10)\n",
            "memory usage: 781.4 KB\n"
          ]
        }
      ]
    },
    {
      "cell_type": "code",
      "metadata": {
        "colab": {
          "base_uri": "https://localhost:8080/",
          "height": 203
        },
        "id": "CUlghDkGvSw1",
        "outputId": "63614b12-0601-457c-95f9-f2f1efa89414"
      },
      "source": [
        "data_set['head']"
      ],
      "execution_count": 4,
      "outputs": [
        {
          "output_type": "execute_result",
          "data": {
            "text/html": [
              "<div>\n",
              "<style scoped>\n",
              "    .dataframe tbody tr th:only-of-type {\n",
              "        vertical-align: middle;\n",
              "    }\n",
              "\n",
              "    .dataframe tbody tr th {\n",
              "        vertical-align: top;\n",
              "    }\n",
              "\n",
              "    .dataframe thead th {\n",
              "        text-align: right;\n",
              "    }\n",
              "</style>\n",
              "<table border=\"1\" class=\"dataframe\">\n",
              "  <thead>\n",
              "    <tr style=\"text-align: right;\">\n",
              "      <th></th>\n",
              "      <th>Ad 1</th>\n",
              "      <th>Ad 2</th>\n",
              "      <th>Ad 3</th>\n",
              "      <th>Ad 4</th>\n",
              "      <th>Ad 5</th>\n",
              "      <th>Ad 6</th>\n",
              "      <th>Ad 7</th>\n",
              "      <th>Ad 8</th>\n",
              "      <th>Ad 9</th>\n",
              "      <th>Ad 10</th>\n",
              "    </tr>\n",
              "  </thead>\n",
              "  <tbody>\n",
              "    <tr>\n",
              "      <th>0</th>\n",
              "      <td>1</td>\n",
              "      <td>0</td>\n",
              "      <td>0</td>\n",
              "      <td>0</td>\n",
              "      <td>1</td>\n",
              "      <td>0</td>\n",
              "      <td>0</td>\n",
              "      <td>0</td>\n",
              "      <td>1</td>\n",
              "      <td>0</td>\n",
              "    </tr>\n",
              "    <tr>\n",
              "      <th>1</th>\n",
              "      <td>0</td>\n",
              "      <td>0</td>\n",
              "      <td>0</td>\n",
              "      <td>0</td>\n",
              "      <td>0</td>\n",
              "      <td>0</td>\n",
              "      <td>0</td>\n",
              "      <td>0</td>\n",
              "      <td>1</td>\n",
              "      <td>0</td>\n",
              "    </tr>\n",
              "    <tr>\n",
              "      <th>2</th>\n",
              "      <td>0</td>\n",
              "      <td>0</td>\n",
              "      <td>0</td>\n",
              "      <td>0</td>\n",
              "      <td>0</td>\n",
              "      <td>0</td>\n",
              "      <td>0</td>\n",
              "      <td>0</td>\n",
              "      <td>0</td>\n",
              "      <td>0</td>\n",
              "    </tr>\n",
              "    <tr>\n",
              "      <th>3</th>\n",
              "      <td>0</td>\n",
              "      <td>1</td>\n",
              "      <td>0</td>\n",
              "      <td>0</td>\n",
              "      <td>0</td>\n",
              "      <td>0</td>\n",
              "      <td>0</td>\n",
              "      <td>1</td>\n",
              "      <td>0</td>\n",
              "      <td>0</td>\n",
              "    </tr>\n",
              "    <tr>\n",
              "      <th>4</th>\n",
              "      <td>0</td>\n",
              "      <td>0</td>\n",
              "      <td>0</td>\n",
              "      <td>0</td>\n",
              "      <td>0</td>\n",
              "      <td>0</td>\n",
              "      <td>0</td>\n",
              "      <td>0</td>\n",
              "      <td>0</td>\n",
              "      <td>0</td>\n",
              "    </tr>\n",
              "  </tbody>\n",
              "</table>\n",
              "</div>"
            ],
            "text/plain": [
              "   Ad 1  Ad 2  Ad 3  Ad 4  Ad 5  Ad 6  Ad 7  Ad 8  Ad 9  Ad 10\n",
              "0     1     0     0     0     1     0     0     0     1      0\n",
              "1     0     0     0     0     0     0     0     0     1      0\n",
              "2     0     0     0     0     0     0     0     0     0      0\n",
              "3     0     1     0     0     0     0     0     1     0      0\n",
              "4     0     0     0     0     0     0     0     0     0      0"
            ]
          },
          "metadata": {},
          "execution_count": 4
        }
      ]
    },
    {
      "cell_type": "code",
      "metadata": {
        "colab": {
          "base_uri": "https://localhost:8080/",
          "height": 203
        },
        "id": "aY9qjvxfvXBR",
        "outputId": "9f95b413-a851-4192-9325-72708822365a"
      },
      "source": [
        "data_set['tail']"
      ],
      "execution_count": null,
      "outputs": [
        {
          "output_type": "execute_result",
          "data": {
            "text/html": [
              "<div>\n",
              "<style scoped>\n",
              "    .dataframe tbody tr th:only-of-type {\n",
              "        vertical-align: middle;\n",
              "    }\n",
              "\n",
              "    .dataframe tbody tr th {\n",
              "        vertical-align: top;\n",
              "    }\n",
              "\n",
              "    .dataframe thead th {\n",
              "        text-align: right;\n",
              "    }\n",
              "</style>\n",
              "<table border=\"1\" class=\"dataframe\">\n",
              "  <thead>\n",
              "    <tr style=\"text-align: right;\">\n",
              "      <th></th>\n",
              "      <th>Ad 1</th>\n",
              "      <th>Ad 2</th>\n",
              "      <th>Ad 3</th>\n",
              "      <th>Ad 4</th>\n",
              "      <th>Ad 5</th>\n",
              "      <th>Ad 6</th>\n",
              "      <th>Ad 7</th>\n",
              "      <th>Ad 8</th>\n",
              "      <th>Ad 9</th>\n",
              "      <th>Ad 10</th>\n",
              "    </tr>\n",
              "  </thead>\n",
              "  <tbody>\n",
              "    <tr>\n",
              "      <th>9995</th>\n",
              "      <td>0</td>\n",
              "      <td>0</td>\n",
              "      <td>1</td>\n",
              "      <td>0</td>\n",
              "      <td>0</td>\n",
              "      <td>0</td>\n",
              "      <td>0</td>\n",
              "      <td>1</td>\n",
              "      <td>0</td>\n",
              "      <td>0</td>\n",
              "    </tr>\n",
              "    <tr>\n",
              "      <th>9996</th>\n",
              "      <td>0</td>\n",
              "      <td>0</td>\n",
              "      <td>0</td>\n",
              "      <td>0</td>\n",
              "      <td>0</td>\n",
              "      <td>0</td>\n",
              "      <td>0</td>\n",
              "      <td>0</td>\n",
              "      <td>0</td>\n",
              "      <td>0</td>\n",
              "    </tr>\n",
              "    <tr>\n",
              "      <th>9997</th>\n",
              "      <td>0</td>\n",
              "      <td>0</td>\n",
              "      <td>0</td>\n",
              "      <td>0</td>\n",
              "      <td>0</td>\n",
              "      <td>0</td>\n",
              "      <td>0</td>\n",
              "      <td>0</td>\n",
              "      <td>0</td>\n",
              "      <td>0</td>\n",
              "    </tr>\n",
              "    <tr>\n",
              "      <th>9998</th>\n",
              "      <td>1</td>\n",
              "      <td>0</td>\n",
              "      <td>0</td>\n",
              "      <td>0</td>\n",
              "      <td>0</td>\n",
              "      <td>0</td>\n",
              "      <td>0</td>\n",
              "      <td>1</td>\n",
              "      <td>0</td>\n",
              "      <td>0</td>\n",
              "    </tr>\n",
              "    <tr>\n",
              "      <th>9999</th>\n",
              "      <td>0</td>\n",
              "      <td>1</td>\n",
              "      <td>0</td>\n",
              "      <td>0</td>\n",
              "      <td>0</td>\n",
              "      <td>0</td>\n",
              "      <td>0</td>\n",
              "      <td>0</td>\n",
              "      <td>0</td>\n",
              "      <td>0</td>\n",
              "    </tr>\n",
              "  </tbody>\n",
              "</table>\n",
              "</div>"
            ],
            "text/plain": [
              "      Ad 1  Ad 2  Ad 3  Ad 4  Ad 5  Ad 6  Ad 7  Ad 8  Ad 9  Ad 10\n",
              "9995     0     0     1     0     0     0     0     1     0      0\n",
              "9996     0     0     0     0     0     0     0     0     0      0\n",
              "9997     0     0     0     0     0     0     0     0     0      0\n",
              "9998     1     0     0     0     0     0     0     1     0      0\n",
              "9999     0     1     0     0     0     0     0     0     0      0"
            ]
          },
          "metadata": {},
          "execution_count": 6
        }
      ]
    },
    {
      "cell_type": "code",
      "metadata": {
        "colab": {
          "base_uri": "https://localhost:8080/",
          "height": 295
        },
        "id": "147IcBVxvYYC",
        "outputId": "ce1b6028-9740-430d-d890-353a01b6c638"
      },
      "source": [
        "data_set['description']"
      ],
      "execution_count": null,
      "outputs": [
        {
          "output_type": "execute_result",
          "data": {
            "text/html": [
              "<div>\n",
              "<style scoped>\n",
              "    .dataframe tbody tr th:only-of-type {\n",
              "        vertical-align: middle;\n",
              "    }\n",
              "\n",
              "    .dataframe tbody tr th {\n",
              "        vertical-align: top;\n",
              "    }\n",
              "\n",
              "    .dataframe thead th {\n",
              "        text-align: right;\n",
              "    }\n",
              "</style>\n",
              "<table border=\"1\" class=\"dataframe\">\n",
              "  <thead>\n",
              "    <tr style=\"text-align: right;\">\n",
              "      <th></th>\n",
              "      <th>Ad 1</th>\n",
              "      <th>Ad 2</th>\n",
              "      <th>Ad 3</th>\n",
              "      <th>Ad 4</th>\n",
              "      <th>Ad 5</th>\n",
              "      <th>Ad 6</th>\n",
              "      <th>Ad 7</th>\n",
              "      <th>Ad 8</th>\n",
              "      <th>Ad 9</th>\n",
              "      <th>Ad 10</th>\n",
              "    </tr>\n",
              "  </thead>\n",
              "  <tbody>\n",
              "    <tr>\n",
              "      <th>count</th>\n",
              "      <td>10000.000000</td>\n",
              "      <td>10000.000000</td>\n",
              "      <td>10000.000000</td>\n",
              "      <td>10000.000000</td>\n",
              "      <td>10000.000000</td>\n",
              "      <td>10000.000000</td>\n",
              "      <td>10000.000000</td>\n",
              "      <td>10000.000000</td>\n",
              "      <td>10000.000000</td>\n",
              "      <td>10000.00000</td>\n",
              "    </tr>\n",
              "    <tr>\n",
              "      <th>mean</th>\n",
              "      <td>0.170300</td>\n",
              "      <td>0.129500</td>\n",
              "      <td>0.072800</td>\n",
              "      <td>0.119600</td>\n",
              "      <td>0.269500</td>\n",
              "      <td>0.012600</td>\n",
              "      <td>0.111200</td>\n",
              "      <td>0.209100</td>\n",
              "      <td>0.095200</td>\n",
              "      <td>0.04890</td>\n",
              "    </tr>\n",
              "    <tr>\n",
              "      <th>std</th>\n",
              "      <td>0.375915</td>\n",
              "      <td>0.335769</td>\n",
              "      <td>0.259821</td>\n",
              "      <td>0.324509</td>\n",
              "      <td>0.443722</td>\n",
              "      <td>0.111546</td>\n",
              "      <td>0.314395</td>\n",
              "      <td>0.406686</td>\n",
              "      <td>0.293506</td>\n",
              "      <td>0.21567</td>\n",
              "    </tr>\n",
              "    <tr>\n",
              "      <th>min</th>\n",
              "      <td>0.000000</td>\n",
              "      <td>0.000000</td>\n",
              "      <td>0.000000</td>\n",
              "      <td>0.000000</td>\n",
              "      <td>0.000000</td>\n",
              "      <td>0.000000</td>\n",
              "      <td>0.000000</td>\n",
              "      <td>0.000000</td>\n",
              "      <td>0.000000</td>\n",
              "      <td>0.00000</td>\n",
              "    </tr>\n",
              "    <tr>\n",
              "      <th>25%</th>\n",
              "      <td>0.000000</td>\n",
              "      <td>0.000000</td>\n",
              "      <td>0.000000</td>\n",
              "      <td>0.000000</td>\n",
              "      <td>0.000000</td>\n",
              "      <td>0.000000</td>\n",
              "      <td>0.000000</td>\n",
              "      <td>0.000000</td>\n",
              "      <td>0.000000</td>\n",
              "      <td>0.00000</td>\n",
              "    </tr>\n",
              "    <tr>\n",
              "      <th>50%</th>\n",
              "      <td>0.000000</td>\n",
              "      <td>0.000000</td>\n",
              "      <td>0.000000</td>\n",
              "      <td>0.000000</td>\n",
              "      <td>0.000000</td>\n",
              "      <td>0.000000</td>\n",
              "      <td>0.000000</td>\n",
              "      <td>0.000000</td>\n",
              "      <td>0.000000</td>\n",
              "      <td>0.00000</td>\n",
              "    </tr>\n",
              "    <tr>\n",
              "      <th>75%</th>\n",
              "      <td>0.000000</td>\n",
              "      <td>0.000000</td>\n",
              "      <td>0.000000</td>\n",
              "      <td>0.000000</td>\n",
              "      <td>1.000000</td>\n",
              "      <td>0.000000</td>\n",
              "      <td>0.000000</td>\n",
              "      <td>0.000000</td>\n",
              "      <td>0.000000</td>\n",
              "      <td>0.00000</td>\n",
              "    </tr>\n",
              "    <tr>\n",
              "      <th>max</th>\n",
              "      <td>1.000000</td>\n",
              "      <td>1.000000</td>\n",
              "      <td>1.000000</td>\n",
              "      <td>1.000000</td>\n",
              "      <td>1.000000</td>\n",
              "      <td>1.000000</td>\n",
              "      <td>1.000000</td>\n",
              "      <td>1.000000</td>\n",
              "      <td>1.000000</td>\n",
              "      <td>1.00000</td>\n",
              "    </tr>\n",
              "  </tbody>\n",
              "</table>\n",
              "</div>"
            ],
            "text/plain": [
              "               Ad 1          Ad 2  ...          Ad 9        Ad 10\n",
              "count  10000.000000  10000.000000  ...  10000.000000  10000.00000\n",
              "mean       0.170300      0.129500  ...      0.095200      0.04890\n",
              "std        0.375915      0.335769  ...      0.293506      0.21567\n",
              "min        0.000000      0.000000  ...      0.000000      0.00000\n",
              "25%        0.000000      0.000000  ...      0.000000      0.00000\n",
              "50%        0.000000      0.000000  ...      0.000000      0.00000\n",
              "75%        0.000000      0.000000  ...      0.000000      0.00000\n",
              "max        1.000000      1.000000  ...      1.000000      1.00000\n",
              "\n",
              "[8 rows x 10 columns]"
            ]
          },
          "metadata": {},
          "execution_count": 7
        }
      ]
    },
    {
      "cell_type": "code",
      "metadata": {
        "colab": {
          "base_uri": "https://localhost:8080/"
        },
        "id": "TyjCGqkkvaUQ",
        "outputId": "aae263ee-74c6-47ba-816e-684ec00d335e"
      },
      "source": [
        "data_set['columns']"
      ],
      "execution_count": null,
      "outputs": [
        {
          "output_type": "execute_result",
          "data": {
            "text/plain": [
              "Index(['Ad 1', 'Ad 2', 'Ad 3', 'Ad 4', 'Ad 5', 'Ad 6', 'Ad 7', 'Ad 8', 'Ad 9',\n",
              "       'Ad 10'],\n",
              "      dtype='object')"
            ]
          },
          "metadata": {},
          "execution_count": 8
        }
      ]
    },
    {
      "cell_type": "code",
      "metadata": {
        "id": "aTiaTi-MvnAG"
      },
      "source": [
        "data=data_set['data']"
      ],
      "execution_count": 8,
      "outputs": []
    },
    {
      "cell_type": "code",
      "metadata": {
        "colab": {
          "base_uri": "https://localhost:8080/"
        },
        "id": "xr5A6CcRvpGc",
        "outputId": "cc41f25f-c0d3-41e7-edae-c0f87c3d4f72"
      },
      "source": [
        "data_set['shape']"
      ],
      "execution_count": 9,
      "outputs": [
        {
          "output_type": "execute_result",
          "data": {
            "text/plain": [
              "(10000, 10)"
            ]
          },
          "metadata": {},
          "execution_count": 9
        }
      ]
    },
    {
      "cell_type": "code",
      "metadata": {
        "id": "jJb6yUi_vr0w"
      },
      "source": [
        "def UCB(data):\n",
        "  import math\n",
        "  N = data.shape[0] #this is the number of entries in our dataset and we will  be iterating through all the entries\n",
        "  d = data.shape[1] #this is the number of features in our dataset\n",
        "  ads_selected = [] #this array contains the add that is selected in a particular round\n",
        "  numbers_of_selections = [0] * d #number of times an ad is selected\n",
        "  sums_of_rewards = [0] * d #sum of rewards for the add\n",
        "  total_reward = 0 #total sum that is awrded in all the rounds and to all the ads\n",
        "  for n in range(0, N):\n",
        "    ad = 0 #at the start of each round we are going with this value as the initial value for the selected ad\n",
        "    max_upper_bound = 0 #since for each round we will select the add with the highest upper bound therefore we are initializing this as zero to find the \n",
        "    #add with the highest upper bound\n",
        "\n",
        "\n",
        "    #calculating Average reward makes sense only if the ad was selected atleast once\n",
        "    \n",
        "    for i in range(0, d):\n",
        "      #this if check makes sure that the add was selected atleast once\n",
        "        if (numbers_of_selections[i] > 0):\n",
        "            average_reward = sums_of_rewards[i] / numbers_of_selections[i]\n",
        "            delta_i = math.sqrt(3/2 * math.log(n + 1) / numbers_of_selections[i])\n",
        "            upper_bound = average_reward + delta_i\n",
        "        else:#if the add is not selcted atlwast once\n",
        "            upper_bound = 1e400 # we assign infinfite value to the upper_bound\n",
        "        if upper_bound > max_upper_bound:#then selects this add for the current round\n",
        "            max_upper_bound = upper_bound#since this will be the max value for the current round\n",
        "            #therefore the add that is not selcted even once will get selected for this round\n",
        "            ad = i\n",
        "    ads_selected.append(ad)# we are appending the add selcted at the end of each round to this array\n",
        "    numbers_of_selections[ad] = numbers_of_selections[ad] + 1 #increasing the number of times the ad was selcted by 1\n",
        "    reward = data.values[n, ad] #finding the reward for adth(add) in the nth round\n",
        "    sums_of_rewards[ad] = sums_of_rewards[ad] + reward #updating the sum of awards for this add\n",
        "    total_reward = total_reward + reward# appending the reward to the total sum of awards\n",
        "\n",
        "  return {'ads_selected':ads_selected,'numbers_of_selections':numbers_of_selections,'sums_of_rewards':sums_of_rewards,\n",
        "         'total_reward':total_reward}"
      ],
      "execution_count": 5,
      "outputs": []
    },
    {
      "cell_type": "code",
      "metadata": {
        "id": "HGjdnItcwFhX"
      },
      "source": [
        "result=UCB(data)"
      ],
      "execution_count": 10,
      "outputs": []
    },
    {
      "cell_type": "code",
      "metadata": {
        "id": "n62hvBtf1LZ0"
      },
      "source": [
        "#this is the add selction for each round\n",
        "display(result['ads_selected'])"
      ],
      "execution_count": null,
      "outputs": []
    },
    {
      "cell_type": "code",
      "metadata": {
        "colab": {
          "base_uri": "https://localhost:8080/"
        },
        "id": "0WOft5H61LiB",
        "outputId": "d51baeb9-5458-4fb7-8218-62cef64d6ede"
      },
      "source": [
        "#this is the number of times an add was selected\n",
        "number_of_selections=result['numbers_of_selections']\n",
        "for i in range(0,10):\n",
        "  print(f'The ad {i} was selcted in {number_of_selections[i]}')"
      ],
      "execution_count": 12,
      "outputs": [
        {
          "output_type": "stream",
          "name": "stdout",
          "text": [
            "The ad 0 was selcted in 705\n",
            "The ad 1 was selcted in 387\n",
            "The ad 2 was selcted in 186\n",
            "The ad 3 was selcted in 345\n",
            "The ad 4 was selcted in 6323\n",
            "The ad 5 was selcted in 150\n",
            "The ad 6 was selcted in 292\n",
            "The ad 7 was selcted in 1170\n",
            "The ad 8 was selcted in 256\n",
            "The ad 9 was selcted in 186\n"
          ]
        }
      ]
    },
    {
      "cell_type": "code",
      "metadata": {
        "colab": {
          "base_uri": "https://localhost:8080/"
        },
        "id": "vX__RX901LpM",
        "outputId": "dd92a0c3-d352-42f6-81ad-dc2800ef1952"
      },
      "source": [
        "sum_of_rewards=result['sums_of_rewards']\n",
        "for i in range(0,10):\n",
        "  print(f'The sum of rewards for ad{i} is {sum_of_rewards[i]}')"
      ],
      "execution_count": 13,
      "outputs": [
        {
          "output_type": "stream",
          "name": "stdout",
          "text": [
            "The sum of rewards for ad0 is 120\n",
            "The sum of rewards for ad1 is 47\n",
            "The sum of rewards for ad2 is 7\n",
            "The sum of rewards for ad3 is 38\n",
            "The sum of rewards for ad4 is 1675\n",
            "The sum of rewards for ad5 is 1\n",
            "The sum of rewards for ad6 is 27\n",
            "The sum of rewards for ad7 is 236\n",
            "The sum of rewards for ad8 is 20\n",
            "The sum of rewards for ad9 is 7\n"
          ]
        }
      ]
    },
    {
      "cell_type": "code",
      "metadata": {
        "colab": {
          "base_uri": "https://localhost:8080/"
        },
        "id": "YLgsv8dI1Lwj",
        "outputId": "42b30362-650e-4e2c-f159-77dba346d8a8"
      },
      "source": [
        "#this is the total reward awarded to all the ads in all the rounds\n",
        "result['total_reward']"
      ],
      "execution_count": 14,
      "outputs": [
        {
          "output_type": "execute_result",
          "data": {
            "text/plain": [
              "2178"
            ]
          },
          "metadata": {},
          "execution_count": 14
        }
      ]
    },
    {
      "cell_type": "code",
      "metadata": {
        "id": "1MF9Zskr2pxM"
      },
      "source": [
        "#Visualizing the result\n",
        "def visualize(ads_selected,x_label:str,y_label:str):\n",
        "  plt.hist(ads_selected)\n",
        "  plt.title('Histogram of ads selections')\n",
        "  plt.xlabel(x_label)\n",
        "  plt.ylabel(y_label)\n",
        "  plt.show()\n"
      ],
      "execution_count": 15,
      "outputs": []
    },
    {
      "cell_type": "code",
      "metadata": {
        "colab": {
          "base_uri": "https://localhost:8080/",
          "height": 295
        },
        "id": "CFpFKZQy3Ulm",
        "outputId": "e8dc2f1a-5532-4a01-c496-3b09c72b0303"
      },
      "source": [
        "visualize(result['ads_selected'],'Ads','Number of times each ad was selcted')"
      ],
      "execution_count": null,
      "outputs": [
        {
          "output_type": "display_data",
          "data": {
            "image/png": "[encoded data removed]",
            "text/plain": [
              "<Figure size 432x288 with 1 Axes>"
            ]
          },
          "metadata": {
            "needs_background": "light"
          }
        }
      ]
    },
    {
      "cell_type": "code",
      "metadata": {
        "id": "eUjUnvDs3rrx"
      },
      "source": [
        "#this function will give us the most optimal option by using thompson sampling\n",
        "def ThompsonSampling(data):\n",
        "  import random\n",
        "  N = data.shape[0]  #this is the number of entries in our dataset\n",
        "  d = data.shape[1] #this is the number of candidates in our dataset\n",
        "  ads_selected = [] #this contains the ad selected in each round\n",
        "  numbers_of_rewards_1 = [0] * d #number of times an ad was rewarded 1\n",
        "  numbers_of_rewards_0 = [0] * d #number of times an as was rewared 0\n",
        "  total_reward = 0 #this contains the total reward awarded to all the ads in all the rounds\n",
        "  for n in range(0, N):\n",
        "    ad = 0 #initially starting with ad 0 as the candidate ad in each round\n",
        "    max_random = 0 \n",
        "    for i in range(0, d):\n",
        "        random_beta = random.betavariate(numbers_of_rewards_1[i] + 1, numbers_of_rewards_0[i] + 1)#for each round we need to draw a random draw from the posterior distrubution\n",
        "        if random_beta > max_random:\n",
        "            max_random = random_beta#we selecte the candidate with the highest value of this beta random/mean value of distribution\n",
        "            ad = i\n",
        "    # we will be selcting the ad with max random beta value\n",
        "    ads_selected.append(ad)\n",
        "    reward = data.values[n, ad]#this is the reward either 0 or 1 for the jth ad in the nth round\n",
        "    if reward == 1:\n",
        "        numbers_of_rewards_1[ad] = numbers_of_rewards_1[ad] + 1#updating the reward 1 for the selcted ad\n",
        "    else:\n",
        "        numbers_of_rewards_0[ad] = numbers_of_rewards_0[ad] + 1 #updating the reward 0 for the selected ad\n",
        "    total_reward = total_reward + reward #updating the total reward as well\n",
        "  return {'ads_selected':ads_selected,'Reward1':numbers_of_rewards_0,'Reward0':numbers_of_rewards_1,\n",
        "         'total_reward':total_reward}"
      ],
      "execution_count": 18,
      "outputs": []
    },
    {
      "cell_type": "code",
      "metadata": {
        "id": "d3F4m44mb4x8"
      },
      "source": [
        "result=ThompsonSampling(data)"
      ],
      "execution_count": 19,
      "outputs": []
    },
    {
      "cell_type": "code",
      "metadata": {
        "id": "_Gh_P4ugcBvk"
      },
      "source": [
        "#this is the list of selected ad for each round\n",
        "ads_selected = result['ads_selected']\n",
        "for i in range (0,len(ads_selected)):\n",
        "  print(f'The ad selected in the {i}th round is {ads_selcted[i]}')\n",
        "  "
      ],
      "execution_count": null,
      "outputs": []
    },
    {
      "cell_type": "code",
      "metadata": {
        "colab": {
          "base_uri": "https://localhost:8080/",
          "height": 295
        },
        "id": "vykCRIUkdepz",
        "outputId": "c9040ffa-a007-4c2a-d8ef-af4069f388d1"
      },
      "source": [
        "visualize(result['ads_selected'],'Ads','Number of times each ad was selcted')"
      ],
      "execution_count": 28,
      "outputs": [
        {
          "output_type": "display_data",
          "data": {
            "image/png": "[encoded data removed]",
            "text/plain": [
              "<Figure size 432x288 with 1 Axes>"
            ]
          },
          "metadata": {
            "needs_background": "light"
          }
        }
      ]
    },
    {
      "cell_type": "markdown",
      "metadata": {
        "id": "h_hb9-CN31fs"
      },
      "source": [
        "#UCB VS Thompson Sampling\n",
        "\n",
        "#1)UCB is deterministic algo whereas Thompson is a probablistic algo\n",
        "\n",
        "#2)UCB requires update after every round whereas Thompson can accomodate a delayed state update since we can still get a set of pseudo points\n",
        "\n",
        "#3)therefore Thompson can work with lesser data than compared to the data required by the UCB algo\n",
        "\n",
        "#4)Thompson has better empirical implication then the UCB algorithm"
      ]
    }
  ]
}