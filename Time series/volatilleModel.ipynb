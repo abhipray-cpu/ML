{
  "nbformat": 4,
  "nbformat_minor": 0,
  "metadata": {
    "colab": {
      "name": "volatilleModel.ipynb",
      "provenance": [],
      "collapsed_sections": []
    },
    "kernelspec": {
      "name": "python3",
      "display_name": "Python 3"
    },
    "language_info": {
      "name": "python"
    }
  },
  "cells": [
    {
      "cell_type": "markdown",
      "source": [
        "#What is arch model?\n",
        "ARCH is an Autoregressive model with Conditional Heteroskedasticity .\n",
        "“The ARCH process introduced by Engle (1982) explicitly recognizes the difference between the unconditional and the conditional variance allowing the latter to change over time as a function of past errors.”\n",
        "Autoregressive: The current value can be expressed as a function of the previous values i.e. they are correlated.\n",
        "Conditional: This informs that the variance is based on past errors.\n",
        "Heteroskedasticity: This implies the series displays unusual variance (varying variance)."
      ],
      "metadata": {
        "id": "Af7nygPzVru0"
      }
    },
    {
      "cell_type": "markdown",
      "source": [
        "#Why an ARCH model?\n",
        "\n",
        "#Autoregressive models can be developed for univariate time-series data that is stationary (AR), has a trend (ARIMA), and has a seasonal component (SARIMA). But, these Autoregressive models do not model is a change in the variance over time.\n",
        "\n",
        "The error terms in the stochastic processes generating the time series were homoscedastic, i.e. with constant variance.\n",
        "\n",
        "There are some time series where the variance changes consistently over time. \n",
        "\n",
        "In the context of a time series in the financial domain, this would be called increasing and decreasing volatility.\n",
        "\n",
        "Volatility in Finance: Degree of variation price series over time as measured by the standard deviation of the series. Suppose that Si is the value of a variable on a day ‘i’. The volatility per day is the standard deviation of ln(Si /Si-1).\n",
        "\n",
        "In time series where the variance is increasing in a systematic way, such as an increasing trend, this property of the series is called heteroskedasticity. This means changing or unequal variance across the series.\n",
        "\n",
        "If this change in the variance can be correlated over time, then it can be modeled using an autoregressive process, such as ARCH."
      ],
      "metadata": {
        "id": "MFO6u-CnV7xA"
      }
    },
    {
      "cell_type": "markdown",
      "source": [
        "#When to apply an ARCH model?\n",
        "\n",
        "#In practice, this can be used to model the expected variance on the residuals after another autoregressive model has been used, such as an ARMA or similar.\n",
        "\n",
        "Since we can only tell whether the ARCH model is appropriate or not by squaring the residuals and examining the correlogram, we also need to ensure that the mean of the residuals is zero.\n",
        "\n",
        "Crucially, ARCH should only ever be applied to series that do not have any trends or seasonal effects, i.e. that have no (evident) serially correlation. ARIMA is often applied to such a series (or even Seasonal ARIMA), at which point ARCH may be a good fit."
      ],
      "metadata": {
        "id": "PyYJ-UGsWOWN"
      }
    },
    {
      "cell_type": "markdown",
      "source": [
        "#What is GARCH model?\n",
        "\n",
        "Generalized Autoregressive Conditional Heteroskedasticity, or GARCH, is an extension of the ARCH model that incorporates a moving average component together with the autoregressive component.\n",
        "\n",
        "Bollerslev (1986, Journal of Econometrics) generalized Engle’s ARCH model and introduced the GARCH model.\n",
        "\n",
        "Introduction of moving average component allows the model:\n",
        "To model the conditional change in variance over time.\n",
        "Changes in the time-dependent variance.\n",
        "Examples include conditional increases and decreases in the variance.\n",
        "\n",
        "Thus GARCH is the “ARMA equivalent” of ARCH, which only has an autoregressive component. GARCH models permit a wider range of behavior more persistent volatility.\n",
        "\n",
        "GACH Model of Order p, q — GARH(p,q):\n",
        "\n",
        "GARCH(1,1):\n",
        "Here we are going to consider a single autoregressive lag and a single “moving average” lag. The model is given by the following:\n",
        "ϵ(t) = w(t) * σ(t)\n",
        "ϵ(t) =w(t) * ⎷(⍺0 + ⍺1 *ϵ²(t-1)) + β1 * σ²(t−1)\n",
        "Similarly GARH(p,q):\n",
        "A time-series {ϵ(t)} is given at each instance by ϵ(t) = w(t)*σ(t)\n",
        "and σ²(t) is given by:\n",
        "\n",
        "source\n",
        "where α(i) and β(j) are parameters of the model.\n",
        "⍺0 > 0, ⍺i ≥ 0, i =1, … q, β≥ 0, j = 1, … p imposed to ensure that the conditional variances are positive.\n",
        "Here we are adding moving average term, that is the value of σ² at t, σ²(t), is dependent upon previous σ²(t-j) values.\n",
        "Interpretation:\n",
        "The large value of β1 causes σ(t) to be highly correlated with σ²(t−1) and gives the conditional standard deviation process a relatively long-term persistence, at least compared to its behavior under an ARCH model.\n",
        "For p = 0 the process reduces to the ARCH(q) process.\n",
        "For p = q = 0, ϵ(t) is simply white noise.\n",
        "How to configure the ARCH and GARCH Model(s):\n",
        "The configuration for an ARCH model is best understood in the context of ACF and PACF plots of the variance of the time series.\n",
        "This can be achieved by subtracting the mean from each observation in the series and squaring the result, or just squaring the observation if you’re already working with white noise residuals from another model.\n",
        "The ACF and PACF plots can then be interpreted to estimate values for p and q, in a similar way as is done for the ARMA model."
      ],
      "metadata": {
        "id": "pH-MLys3XYX7"
      }
    },
    {
      "cell_type": "markdown",
      "source": [
        "#ARIMA-GARCH model for volatitlity forecasting"
      ],
      "metadata": {
        "id": "bLKdldjwXqtL"
      }
    },
    {
      "cell_type": "code",
      "source": [
        "!pip install pmdarima"
      ],
      "metadata": {
        "colab": {
          "base_uri": "https://localhost:8080/"
        },
        "id": "oPN_3j0_XqcE",
        "outputId": "36d3346c-4191-4a3e-f821-7bd8f156cc81"
      },
      "execution_count": 7,
      "outputs": [
        {
          "output_type": "stream",
          "name": "stdout",
          "text": [
            "Collecting pmdarima\n",
            "  Downloading pmdarima-1.8.4-cp37-cp37m-manylinux_2_17_x86_64.manylinux2014_x86_64.manylinux_2_24_x86_64.whl (1.4 MB)\n",
            "\u001b[K     |████████████████████████████████| 1.4 MB 5.1 MB/s \n",
            "\u001b[?25hRequirement already satisfied: joblib>=0.11 in /usr/local/lib/python3.7/dist-packages (from pmdarima) (1.1.0)\n",
            "Requirement already satisfied: setuptools!=50.0.0,>=38.6.0 in /usr/local/lib/python3.7/dist-packages (from pmdarima) (57.4.0)\n",
            "Requirement already satisfied: scikit-learn>=0.22 in /usr/local/lib/python3.7/dist-packages (from pmdarima) (1.0.1)\n",
            "Requirement already satisfied: statsmodels!=0.12.0,>=0.11 in /usr/local/lib/python3.7/dist-packages (from pmdarima) (0.13.1)\n",
            "Requirement already satisfied: Cython!=0.29.18,>=0.29 in /usr/local/lib/python3.7/dist-packages (from pmdarima) (0.29.24)\n",
            "Requirement already satisfied: urllib3 in /usr/local/lib/python3.7/dist-packages (from pmdarima) (1.24.3)\n",
            "Requirement already satisfied: pandas>=0.19 in /usr/local/lib/python3.7/dist-packages (from pmdarima) (1.1.5)\n",
            "Requirement already satisfied: numpy>=1.19.3 in /usr/local/lib/python3.7/dist-packages (from pmdarima) (1.19.5)\n",
            "Requirement already satisfied: scipy>=1.3.2 in /usr/local/lib/python3.7/dist-packages (from pmdarima) (1.4.1)\n",
            "Requirement already satisfied: python-dateutil>=2.7.3 in /usr/local/lib/python3.7/dist-packages (from pandas>=0.19->pmdarima) (2.8.2)\n",
            "Requirement already satisfied: pytz>=2017.2 in /usr/local/lib/python3.7/dist-packages (from pandas>=0.19->pmdarima) (2018.9)\n",
            "Requirement already satisfied: six>=1.5 in /usr/local/lib/python3.7/dist-packages (from python-dateutil>=2.7.3->pandas>=0.19->pmdarima) (1.15.0)\n",
            "Requirement already satisfied: threadpoolctl>=2.0.0 in /usr/local/lib/python3.7/dist-packages (from scikit-learn>=0.22->pmdarima) (3.0.0)\n",
            "Requirement already satisfied: patsy>=0.5.2 in /usr/local/lib/python3.7/dist-packages (from statsmodels!=0.12.0,>=0.11->pmdarima) (0.5.2)\n",
            "Installing collected packages: pmdarima\n",
            "Successfully installed pmdarima-1.8.4\n"
          ]
        }
      ]
    },
    {
      "cell_type": "code",
      "source": [
        ""
      ],
      "metadata": {
        "id": "U6JDtuj5ZiiU"
      },
      "execution_count": null,
      "outputs": []
    },
    {
      "cell_type": "code",
      "source": [
        "import pandas as pd\n",
        "import numpy as np\n",
        "import seaborn as sns\n",
        "import matplotlib.pyplot as plt\n",
        "import plotly.express as px"
      ],
      "metadata": {
        "id": "xoN5lf4NZga4"
      },
      "execution_count": 17,
      "outputs": []
    },
    {
      "cell_type": "code",
      "source": [
        "#this is the codeflow define an ARIMA or SARIMa model and then feed to residuals to the \n",
        "#garch model\n",
        "#This function will generate the timseries\n",
        "#importing the dataset\n",
        "def generate_data(location:str,sample_number=10):\n",
        "  data=pd.read_csv(location,engine='python')\n",
        "  head=data.head()\n",
        "  tail=data.tail()\n",
        "  sample=data.sample(sample_number)\n",
        "  description=data.describe()\n",
        "  columns=data.columns \n",
        "  info=data.info()\n",
        "  shape=data.shape\n",
        "  size=data.size\n",
        "  return {'data':data,'head':head,'tail':tail,'sample':sample,'description':description,'columns':columns,'info':info,\n",
        "          'shape':shape,'size':size}\n"
      ],
      "metadata": {
        "id": "DMIOK4LRYijE"
      },
      "execution_count": 18,
      "outputs": []
    },
    {
      "cell_type": "code",
      "source": [
        "data_set=generate_data('/content/Electric_Production.csv')\n",
        "data=data_set['data']"
      ],
      "metadata": {
        "colab": {
          "base_uri": "https://localhost:8080/"
        },
        "id": "FFOvD5EQZi_G",
        "outputId": "9540e263-baf4-4342-fcf8-5b51fa3fa41c"
      },
      "execution_count": 19,
      "outputs": [
        {
          "output_type": "stream",
          "name": "stdout",
          "text": [
            "<class 'pandas.core.frame.DataFrame'>\n",
            "RangeIndex: 397 entries, 0 to 396\n",
            "Data columns (total 2 columns):\n",
            " #   Column      Non-Null Count  Dtype  \n",
            "---  ------      --------------  -----  \n",
            " 0   DATE        397 non-null    object \n",
            " 1   IPG2211A2N  397 non-null    float64\n",
            "dtypes: float64(1), object(1)\n",
            "memory usage: 6.3+ KB\n"
          ]
        }
      ]
    },
    {
      "cell_type": "code",
      "source": [
        "#since some of the numeric fileds can be of type object therefore processing them and conveting to type float\n",
        "def preproacessData(data):\n",
        "  #except for the first column i.e date the data type of all the fields will be preprocessed\n",
        "  for i in range(1,len(data.columns)):\n",
        "    if data[data.columns[i]].dtype == object:\n",
        "      #need to filter the string for some value:\n",
        "      count=0\n",
        "      for val in data[data.columns[i]]:\n",
        "        string=\"\"\n",
        "        for char in val:\n",
        "          #will only be appending the alphanumeric charcters since ?0.2 was giving an error\n",
        "          if char.isdigit():\n",
        "            string+=char\n",
        "          \n",
        "        data[data.columns[i]][count]=string\n",
        "        count=count+1\n",
        "\n",
        "      data[data.columns[i]] = data[data.columns[i]].astype('float64')\n",
        "  return data"
      ],
      "metadata": {
        "id": "iYKkWPcgZ4gc"
      },
      "execution_count": 21,
      "outputs": []
    },
    {
      "cell_type": "code",
      "source": [
        "data=preproacessData(data)"
      ],
      "metadata": {
        "id": "0BponuqYZ5fs"
      },
      "execution_count": 22,
      "outputs": []
    },
    {
      "cell_type": "code",
      "source": [
        "#This is the arima model + it can be used with a non stationary dataset\n",
        "#pass the order tuple after finding the best fit by running the get_best_fit function\n",
        "def ARIMA_model(data,order,split:float=0.25):\n",
        "  from math import ceil\n",
        "  from statsmodels.tsa.arima.model import ARIMA\n",
        "  divide = ceil(data.shape[0]*split)\n",
        "  train=data[:data.shape[0]-divide]\n",
        "  test=data[data.shape[0]-divide:]\n",
        "  model=ARIMA(train[data.columns[1]],order=order)\n",
        "  model=model.fit()\n",
        "  model.summary()\n",
        "\n",
        "  #visualizing the results and the model\n",
        "  start=len(train)\n",
        "  end=len(train)+len(test)-1\n",
        "  pred=model.predict(start=start,end=end,typ='levels').rename('ARIMA Predictions')\n",
        "  pred.plot(legend=True)\n",
        "  test[data.columns[1]].plot(legend=True)\n",
        "  return model\n",
        "\n",
        "\n",
        "  \n",
        "  #the main task here is to figure out the order of ARIMA model  \n",
        "  #this is done automatically using the pmdarima library\n",
        "  #select the combination for which the AIC score is least\n",
        "def give_best_fit(data,feature:str):\n",
        "  from pmdarima import auto_arima\n",
        "  stepwise_fit = auto_arima(data[feature], trace=True,suppress_warnings=True)"
      ],
      "metadata": {
        "id": "Yctr8HRTaP9I"
      },
      "execution_count": 27,
      "outputs": []
    },
    {
      "cell_type": "code",
      "source": [
        "give_best_fit(data,data.columns[1])"
      ],
      "metadata": {
        "colab": {
          "base_uri": "https://localhost:8080/"
        },
        "id": "VA8ViBkKbJzp",
        "outputId": "8c5984a2-928a-47f4-dfaf-784451b0a1a8"
      },
      "execution_count": 28,
      "outputs": [
        {
          "output_type": "stream",
          "name": "stdout",
          "text": [
            "Performing stepwise search to minimize aic\n",
            " ARIMA(2,1,2)(0,0,0)[0] intercept   : AIC=inf, Time=0.86 sec\n",
            " ARIMA(0,1,0)(0,0,0)[0] intercept   : AIC=2750.050, Time=0.02 sec\n",
            " ARIMA(1,1,0)(0,0,0)[0] intercept   : AIC=2691.759, Time=0.09 sec\n",
            " ARIMA(0,1,1)(0,0,0)[0] intercept   : AIC=2624.463, Time=0.10 sec\n",
            " ARIMA(0,1,0)(0,0,0)[0]             : AIC=2748.185, Time=0.02 sec\n",
            " ARIMA(1,1,1)(0,0,0)[0] intercept   : AIC=2625.508, Time=0.21 sec\n",
            " ARIMA(0,1,2)(0,0,0)[0] intercept   : AIC=2525.516, Time=0.25 sec\n",
            " ARIMA(1,1,2)(0,0,0)[0] intercept   : AIC=2493.118, Time=0.28 sec\n",
            " ARIMA(1,1,3)(0,0,0)[0] intercept   : AIC=2449.570, Time=0.49 sec\n",
            " ARIMA(0,1,3)(0,0,0)[0] intercept   : AIC=2449.577, Time=0.36 sec\n",
            " ARIMA(2,1,3)(0,0,0)[0] intercept   : AIC=inf, Time=1.19 sec\n",
            " ARIMA(1,1,4)(0,0,0)[0] intercept   : AIC=2431.710, Time=0.70 sec\n",
            " ARIMA(0,1,4)(0,0,0)[0] intercept   : AIC=2431.461, Time=0.47 sec\n",
            " ARIMA(0,1,5)(0,0,0)[0] intercept   : AIC=2359.635, Time=0.74 sec\n",
            " ARIMA(1,1,5)(0,0,0)[0] intercept   : AIC=2349.722, Time=1.25 sec\n",
            " ARIMA(2,1,5)(0,0,0)[0] intercept   : AIC=2067.038, Time=1.73 sec\n",
            " ARIMA(2,1,4)(0,0,0)[0] intercept   : AIC=2058.723, Time=1.28 sec\n",
            " ARIMA(3,1,4)(0,0,0)[0] intercept   : AIC=2081.174, Time=1.57 sec\n",
            " ARIMA(3,1,3)(0,0,0)[0] intercept   : AIC=inf, Time=1.43 sec\n",
            " ARIMA(3,1,5)(0,0,0)[0] intercept   : AIC=2059.986, Time=1.96 sec\n",
            " ARIMA(2,1,4)(0,0,0)[0]             : AIC=2071.225, Time=0.95 sec\n",
            "\n",
            "Best model:  ARIMA(2,1,4)(0,0,0)[0] intercept\n",
            "Total fit time: 16.004 seconds\n"
          ]
        }
      ]
    },
    {
      "cell_type": "code",
      "source": [
        "modelArima=ARIMA_model(data,(2,1,4))\n",
        "#while calling the function the model will also be returned and then find the residual on this object\n",
        "arima_residuals = modelArima.resid"
      ],
      "metadata": {
        "colab": {
          "base_uri": "https://localhost:8080/",
          "height": 265
        },
        "id": "5PGw0hTqbV16",
        "outputId": "08b53ce6-134d-4d87-c19e-7a88a814b225"
      },
      "execution_count": 30,
      "outputs": [
        {
          "output_type": "display_data",
          "data": {
            "image/png": "[encoded data removed]",
            "text/plain": [
              "<Figure size 432x288 with 1 Axes>"
            ]
          },
          "metadata": {
            "needs_background": "light"
          }
        }
      ]
    },
    {
      "cell_type": "code",
      "source": [
        "#SARIMA model for forecasting and then will return the model object to call in the residuals\n",
        "#make sure that before working on this model you have your date as DateTimeObject\n",
        "def SARIMA_model(data,start:int,end:int):\n",
        "  import statsmodels.api as sm\n",
        "  model=sm.tsa.statespace.SARIMAX(data[data.columns[0]],order=(1, 1, 1),seasonal_order=(1,1,1,12))\n",
        "  results=model.fit()\n",
        "  data['forecast']=results.predict(start=start,end=end,dynamic=True)\n",
        "  data[[data.columns[1],'forecast']].plot(figsize=(12,8))\n",
        "  \n",
        "def getOrder(data):\n",
        "  print('****************************************************')\n",
        "  print('Damn this grid search takes a long time')\n",
        "  print('Select the model with the least value of BIC')\n",
        "  print('****************************************************')\n",
        "\n",
        "  import itertools\n",
        "  import statsmodels.api as sm\n",
        "  ### Define Parameter Ranges to Test ###\n",
        "  # Note: higher numbers will result in code taking much longer to run\n",
        "  # Here we have it set to test p,d,q each = 0, 1 & 2\n",
        "  # Define the p, d and q parameters to take any value between 0 and 3 (exclusive)\n",
        "  p = d = q = range(0, 3)\n",
        "  # Generate all different combinations of p, q and q triplets\n",
        "  pdq = list(itertools.product(p, d, q))\n",
        "  # Generate all different combinations of seasonal p, q and q triplets\n",
        "  # Note: here we have 12 in the 's' position as we have monthly data\n",
        "  # You'll want to change this according to your time series' frequency\n",
        "  pdqs = [(x[0], x[1], x[2], 12) for x in list(itertools.product(p, d, q))]\n",
        "  result=sarimax_gridsearch(data,pdq, pdqs, maxiter=50, freq='M')  \n",
        "  print(result)\n",
        "  \n",
        "  ### Run Grid Search ###\n",
        "  # Note: this code will take a while to run\n",
        "  # Define function\n",
        "\n",
        "#ts is the data that you will be predicting upon\n",
        "def sarimax_gridsearch(ts, pdq, pdqs, maxiter=50, freq='M'):\n",
        "  import statsmodels.api as sm\n",
        "   # Run a grid search with pdq and seasonal pdq parameters and get the best BIC value\n",
        "  ans = []\n",
        "  for comb in pdq:\n",
        "    for combs in pdqs:\n",
        "      try:\n",
        "        mod=sm.tsa.statespace.SARIMAX(ts[ts.columns[0]],order=comb,seasonal_order=combs)\n",
        "        output = mod.fit(maxiter=maxiter) \n",
        "        ans.append([comb, combs, output.bic])\n",
        "        print('SARIMAX {} x {}12 : BIC Calculated ={}'.format(comb, combs, output.bic))\n",
        "      except:\n",
        "        print('except block is executed')\n",
        "        continue\n",
        "            \n",
        "  ans_df = pd.DataFrame(ans, columns=['pdq', 'pdqs', 'bic'])\n",
        "  ans_df = ans_df.sort_values(by=['bic'],ascending=True)[0:5]\n",
        "  return ans_df\n",
        "    \n",
        "\n",
        "\n",
        "def seasonalDecompsoe(data):\n",
        "  from statsmodels.tsa.seasonal import seasonal_decompose\n",
        "  decompose_data = seasonal_decompose(data, model=\"additive\")\n",
        "  decompose_data.plot();\n",
        "\n",
        "def getSeasonality(data):\n",
        "  from statsmodels.tsa.seasonal import seasonal_decompose\n",
        "  decompose_data = seasonal_decompose(data, model=\"additive\")\n",
        "  #this plot is for seasonality if you want to extract seasonality only\n",
        "  seasonality=decompose_data.seasonal\n",
        "  seasonality.plot(color='green')\n",
        "\n",
        "getOrder(data1)\n",
        "#modify this function to return the fitted model and then calculate the residuals"
      ],
      "metadata": {
        "id": "-kgyNPmYb6WJ"
      },
      "execution_count": null,
      "outputs": []
    },
    {
      "cell_type": "code",
      "source": [
        "#Working on the GARCH model for the ARIMA residuals\n",
        "#work on this model later on\n",
        "#and check the second notebook on how to build a trade forecast"
      ],
      "metadata": {
        "id": "L_fMIzvscUaV"
      },
      "execution_count": null,
      "outputs": []
    }
  ]
}