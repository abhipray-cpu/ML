{
  "nbformat": 4,
  "nbformat_minor": 0,
  "metadata": {
    "colab": {
      "name": "Regression.ipynb",
      "provenance": [],
      "collapsed_sections": []
    },
    "kernelspec": {
      "name": "python3",
      "display_name": "Python 3"
    },
    "language_info": {
      "name": "python"
    }
  },
  "cells": [
    {
      "cell_type": "code",
      "metadata": {
        "id": "nxX9dqRjslAf",
        "colab": {
          "base_uri": "https://localhost:8080/",
          "height": 313
        },
        "outputId": "d930667d-fa4a-4e02-bce9-4616b1ae7f91"
      },
      "source": [
        "from pycaret.datasets import get_data\n",
        "data=get_data('boston')"
      ],
      "execution_count": null,
      "outputs": [
        {
          "output_type": "error",
          "ename": "ModuleNotFoundError",
          "evalue": "ignored",
          "traceback": [
            "\u001b[0;31m---------------------------------------------------------------------------\u001b[0m",
            "\u001b[0;31mModuleNotFoundError\u001b[0m                       Traceback (most recent call last)",
            "\u001b[0;32m<ipython-input-1-b948de982c6c>\u001b[0m in \u001b[0;36m<module>\u001b[0;34m()\u001b[0m\n\u001b[0;32m----> 1\u001b[0;31m \u001b[0;32mfrom\u001b[0m \u001b[0mpycaret\u001b[0m\u001b[0;34m.\u001b[0m\u001b[0mdatasets\u001b[0m \u001b[0;32mimport\u001b[0m \u001b[0mget_data\u001b[0m\u001b[0;34m\u001b[0m\u001b[0;34m\u001b[0m\u001b[0m\n\u001b[0m\u001b[1;32m      2\u001b[0m \u001b[0mdata\u001b[0m\u001b[0;34m=\u001b[0m\u001b[0mget_data\u001b[0m\u001b[0;34m(\u001b[0m\u001b[0;34m'boston'\u001b[0m\u001b[0;34m)\u001b[0m\u001b[0;34m\u001b[0m\u001b[0;34m\u001b[0m\u001b[0m\n",
            "\u001b[0;31mModuleNotFoundError\u001b[0m: No module named 'pycaret'",
            "",
            "\u001b[0;31m---------------------------------------------------------------------------\u001b[0;32m\nNOTE: If your import is failing due to a missing package, you can\nmanually install dependencies using either !pip or !apt.\n\nTo view examples of installing some common dependencies, click the\n\"Open Examples\" button below.\n\u001b[0;31m---------------------------------------------------------------------------\u001b[0m\n"
          ]
        }
      ]
    },
    {
      "cell_type": "code",
      "metadata": {
        "id": "sxUmteeTtYRY"
      },
      "source": [
        "from pycaret.regeression import *\n",
        "\n",
        "#here are all the different models available to us\n",
        "'''‘lr’ - Linear Regression\n",
        "\n",
        "‘lasso’ - Lasso Regression\n",
        "\n",
        "‘ridge’ - Ridge Regression\n",
        "\n",
        "‘en’ - Elastic Net\n",
        "\n",
        "‘lar’ - Least Angle Regression\n",
        "\n",
        "‘llar’ - Lasso Least Angle Regression\n",
        "\n",
        "‘omp’ - Orthogonal Matching Pursuit\n",
        "\n",
        "‘br’ - Bayesian Ridge\n",
        "\n",
        "‘ard’ - Automatic Relevance Determination\n",
        "\n",
        "‘par’ - Passive Aggressive Regressor\n",
        "\n",
        "‘ransac’ - Random Sample Consensus\n",
        "\n",
        "‘tr’ - TheilSen Regressor\n",
        "\n",
        "‘huber’ - Huber Regressor\n",
        "\n",
        "‘kr’ - Kernel Ridge\n",
        "\n",
        "‘svm’ - Support Vector Regression\n",
        "\n",
        "‘knn’ - K Neighbors Regressor\n",
        "\n",
        "‘dt’ - Decision Tree Regressor\n",
        "\n",
        "‘rf’ - Random Forest Regressor\n",
        "\n",
        "‘et’ - Extra Trees Regressor\n",
        "\n",
        "‘ada’ - AdaBoost Regressor\n",
        "\n",
        "‘gbr’ - Gradient Boosting Regressor\n",
        "\n",
        "‘mlp’ - MLP Regressor\n",
        "\n",
        "‘xgboost’ - Extreme Gradient Boosting\n",
        "\n",
        "‘lightgbm’ - Light Gradient Boosting Machine\n",
        "\n",
        "‘catboost’ - CatBoost Regressor'''"
      ],
      "execution_count": null,
      "outputs": []
    },
    {
      "cell_type": "code",
      "metadata": {
        "id": "-MEwZUfrtnYZ"
      },
      "source": [
        "exp=setup(data,target='medv')"
      ],
      "execution_count": null,
      "outputs": []
    },
    {
      "cell_type": "code",
      "metadata": {
        "id": "If1HU_7-tuA2"
      },
      "source": [
        "compare_models()"
      ],
      "execution_count": null,
      "outputs": []
    },
    {
      "cell_type": "code",
      "metadata": {
        "id": "s36qC47WtvxQ"
      },
      "source": [
        "model=create_model('model_name')"
      ],
      "execution_count": null,
      "outputs": []
    },
    {
      "cell_type": "code",
      "metadata": {
        "id": "TNm9QtRruWou"
      },
      "source": [
        "model_tune=tune_model(model)#this will give us a tuned model"
      ],
      "execution_count": null,
      "outputs": []
    },
    {
      "cell_type": "code",
      "metadata": {
        "id": "oDL8H0qIudUA"
      },
      "source": [
        "model_ensemble=enesemble_model(model_tune)#this will give us a further tuned model using the enesemble learning method"
      ],
      "execution_count": null,
      "outputs": []
    },
    {
      "cell_type": "markdown",
      "metadata": {
        "id": "EF_ZOpT_u6oO"
      },
      "source": [
        "Baki vo stack and bundle toe baadmei smjhe gae"
      ]
    },
    {
      "cell_type": "code",
      "metadata": {
        "id": "aj1yjhnvvAjK"
      },
      "source": [
        "#visualizing we can simplt use evaluate_model function whichh will priovide us with a gui\n",
        "\n",
        "evaluate_model(model_ensemble)"
      ],
      "execution_count": null,
      "outputs": []
    },
    {
      "cell_type": "code",
      "metadata": {
        "id": "L1nBQ0_9vbAK"
      },
      "source": [
        "#we can also interperet the model\n",
        "interpret_model(model_ensemble) #this fuction is reserved only for tree based models"
      ],
      "execution_count": null,
      "outputs": []
    },
    {
      "cell_type": "code",
      "metadata": {
        "id": "7RCNjTbiv79S"
      },
      "source": [
        "#predicting on unseen data\n",
        "pred_unseen = predict_model(model_ensembele, data = data)"
      ],
      "execution_count": null,
      "outputs": []
    },
    {
      "cell_type": "code",
      "metadata": {
        "id": "1JtjgsByv-dC"
      },
      "source": [
        "#deploying on cloud\n",
        "deploy_model(model = lr, model_name = 'lr-for-deployment', platform = 'aws', authentication = {'bucket' : 'S3-bucket-name'})"
      ],
      "execution_count": null,
      "outputs": []
    },
    {
      "cell_type": "code",
      "metadata": {
        "id": "y-D7U0_qv8An"
      },
      "source": [
        "#saving the model\n",
        "#simply use the save model for this task"
      ],
      "execution_count": null,
      "outputs": []
    }
  ]
}