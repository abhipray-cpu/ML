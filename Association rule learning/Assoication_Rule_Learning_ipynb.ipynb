{
  "nbformat": 4,
  "nbformat_minor": 0,
  "metadata": {
    "colab": {
      "name": "Assoication Rule Learning ipynb",
      "provenance": []
    },
    "kernelspec": {
      "name": "python3",
      "display_name": "Python 3"
    },
    "language_info": {
      "name": "python"
    }
  },
  "cells": [
    {
      "cell_type": "markdown",
      "metadata": {
        "id": "gyWmMhXpIsUN"
      },
      "source": [
        "#This notebook contains all the tools I will be using for association Rule learning projects:"
      ]
    },
    {
      "cell_type": "code",
      "metadata": {
        "id": "9Rk1pWW0I31o"
      },
      "source": [
        "#importing libraries\n",
        "import pandas as pd\n",
        "import numpy as np\n",
        "import matplotlib.pyplot as plt\n",
        "import seaborn as sns\n",
        "import plotly.express as px"
      ],
      "execution_count": 41,
      "outputs": []
    },
    {
      "cell_type": "code",
      "metadata": {
        "id": "9G2Fix2oJLnm"
      },
      "source": [
        "#importing the dataset\n",
        "def generate_data(location:str,sample_number=10):\n",
        "  data=pd.read_csv(location,engine='python')\n",
        "  head=data.head()\n",
        "  tail=data.tail()\n",
        "  sample=data.sample(sample_number)\n",
        "  description=data.describe()\n",
        "  columns=data.columns\n",
        "  info=data.info()\n",
        "  shape=data.shape\n",
        "  size=data.size\n",
        "  return {'data':data,'head':head,'tail':tail,'sample':sample,'description':description,'columns':columns,'info':info,\n",
        "          'shape':shape,'size':size}\n"
      ],
      "execution_count": 42,
      "outputs": []
    },
    {
      "cell_type": "code",
      "metadata": {
        "id": "UADMPuaMJzaU"
      },
      "source": [
        "data_set1 = generate_data('/content/Market_Basket_Optimisation.csv')"
      ],
      "execution_count": null,
      "outputs": []
    },
    {
      "cell_type": "code",
      "metadata": {
        "id": "OzmPm3M6J5By"
      },
      "source": [
        "data1 = data_set1['data']"
      ],
      "execution_count": 44,
      "outputs": []
    },
    {
      "cell_type": "code",
      "metadata": {
        "id": "NymlVE4MKCrd"
      },
      "source": [
        "#Analyzing the data\n",
        "data_set1['head']"
      ],
      "execution_count": null,
      "outputs": []
    },
    {
      "cell_type": "code",
      "metadata": {
        "id": "xgg3wmS7KM05"
      },
      "source": [
        "data_set1['tail']"
      ],
      "execution_count": null,
      "outputs": []
    },
    {
      "cell_type": "code",
      "metadata": {
        "id": "EPzLVD4eKM8c"
      },
      "source": [
        "data_set1['description']"
      ],
      "execution_count": null,
      "outputs": []
    },
    {
      "cell_type": "code",
      "metadata": {
        "colab": {
          "base_uri": "https://localhost:8080/"
        },
        "id": "UTuqpgrhKWUP",
        "outputId": "d0fac2f4-8c89-4db1-9305-7d4b8f05d272"
      },
      "source": [
        "data1.shape"
      ],
      "execution_count": 9,
      "outputs": [
        {
          "output_type": "execute_result",
          "data": {
            "text/plain": [
              "(7500, 20)"
            ]
          },
          "metadata": {},
          "execution_count": 9
        }
      ]
    },
    {
      "cell_type": "code",
      "metadata": {
        "id": "9Ansn2niLfTi"
      },
      "source": [
        "#we need to project our dataset into a particular format\n",
        "#this function will project our dataset into the required format\n",
        "def project(data):\n",
        "  transactions=[]\n",
        "  rows,columns=data.shape\n",
        "  # we need to include one extra value then the number of rows\n",
        "  for i in range (0,rows):\n",
        "    transactions.append([str(data.values[i,j]) for j in range(0, columns)])\n",
        "  #this will give the required format with which we can continue now\n",
        "  #there will be a total of rows entries each containing the entire rows of the dataset\n",
        "  return transactions\n",
        "\n",
        "transactions = project(data1)"
      ],
      "execution_count": 46,
      "outputs": []
    },
    {
      "cell_type": "code",
      "metadata": {
        "id": "CTQml6XkM8DX"
      },
      "source": [
        "#chechking the new format dataset\n",
        "for val in transactions:\n",
        "  print(val)"
      ],
      "execution_count": null,
      "outputs": []
    },
    {
      "cell_type": "code",
      "metadata": {
        "id": "GFM-jonrQyaj"
      },
      "source": [
        "#installing the module\n",
        "!pip install apyori"
      ],
      "execution_count": null,
      "outputs": []
    },
    {
      "cell_type": "code",
      "metadata": {
        "id": "RQQIcYZXQ6bM"
      },
      "source": [
        "#building the apriori model\n",
        "def apriori(transactions,min_support:float,min_confidence:float=0.8,min_lift:int =3,min_length:int=2,max_length:int=2):\n",
        "  from apyori import apriori\n",
        "  rules = apriori(transactions = transactions, min_support = min_support, min_confidence = min_confidence, min_lift = min_lift, min_length = min_length, max_length = max_length)\n",
        "  return rules\n",
        "# we need to define the following parametres\n",
        "#1)min_support:let's say we want to consider only those products that appear in atlest 3 transactions in a say \n",
        "#ans since this dataset contains the data of an entire week we will multiplt  3 with 7\n",
        "# so our min support is (3*7)/Number of entrires in our dataset i.e transactions over the week\n",
        "#therfore min_support  = (3*21)/7500\n",
        "\n",
        "\n",
        "#2)min_confidence:Some rule of thumbs (start with 0.8 and then keep decreasing the confidence by dividing with 2\n",
        "#i.e 0.8,0.4,0.2 and so on)\n",
        "#3)min_lift: rule of thum start with 3 and then keep on Increasing the value based on your dataset\n",
        "#4)min_confidence:min numbe of elements we want in our rules\n",
        "#5)max_confidence max number of elements we want in our rule"
      ],
      "execution_count": 47,
      "outputs": []
    },
    {
      "cell_type": "code",
      "metadata": {
        "colab": {
          "base_uri": "https://localhost:8080/",
          "height": 357
        },
        "id": "qMZiXc6LUvjd",
        "outputId": "f27f5828-fd13-4983-d084-c05dd0f20c7a"
      },
      "source": [
        "#before calling the function let's define some functions and run a loop for getting different values:\n",
        "min_support=[(3*7)/7500,(4*7)/7500,(5*7)/7500,(6*7)/7500] # item should apper atleast 3,4,5,6 times in transcations done in a day\n",
        "min_confidence=[0.8,0.4,0.2]#starting with 0.8 and then decreasing the value each time\n",
        "min_lift=[3,4,5,6,7,8,9] #starting with 3 and increasing the value consecutively\n",
        "length=[2,3,4] # will use the same value for both min_length and max_length\n",
        "#you can try with all these possible values\n",
        "rules =  apriori(transactions,(3*7)/7500,0.2,3,2,2)\n",
        "display_Aprori(rules)"
      ],
      "execution_count": 66,
      "outputs": [
        {
          "output_type": "display_data",
          "data": {
            "text/html": [
              "<div>\n",
              "<style scoped>\n",
              "    .dataframe tbody tr th:only-of-type {\n",
              "        vertical-align: middle;\n",
              "    }\n",
              "\n",
              "    .dataframe tbody tr th {\n",
              "        vertical-align: top;\n",
              "    }\n",
              "\n",
              "    .dataframe thead th {\n",
              "        text-align: right;\n",
              "    }\n",
              "</style>\n",
              "<table border=\"1\" class=\"dataframe\">\n",
              "  <thead>\n",
              "    <tr style=\"text-align: right;\">\n",
              "      <th></th>\n",
              "      <th>Left Hand Side</th>\n",
              "      <th>Right Hand Side</th>\n",
              "      <th>Support</th>\n",
              "      <th>Confidence</th>\n",
              "      <th>Lift</th>\n",
              "    </tr>\n",
              "  </thead>\n",
              "  <tbody>\n",
              "    <tr>\n",
              "      <th>4</th>\n",
              "      <td>fromage blanc</td>\n",
              "      <td>honey</td>\n",
              "      <td>0.003333</td>\n",
              "      <td>0.245098</td>\n",
              "      <td>5.178128</td>\n",
              "    </tr>\n",
              "    <tr>\n",
              "      <th>1</th>\n",
              "      <td>light cream</td>\n",
              "      <td>chicken</td>\n",
              "      <td>0.004533</td>\n",
              "      <td>0.290598</td>\n",
              "      <td>4.843305</td>\n",
              "    </tr>\n",
              "    <tr>\n",
              "      <th>3</th>\n",
              "      <td>pasta</td>\n",
              "      <td>escalope</td>\n",
              "      <td>0.005867</td>\n",
              "      <td>0.372881</td>\n",
              "      <td>4.700185</td>\n",
              "    </tr>\n",
              "    <tr>\n",
              "      <th>9</th>\n",
              "      <td>pasta</td>\n",
              "      <td>shrimp</td>\n",
              "      <td>0.005067</td>\n",
              "      <td>0.322034</td>\n",
              "      <td>4.514494</td>\n",
              "    </tr>\n",
              "    <tr>\n",
              "      <th>8</th>\n",
              "      <td>whole wheat pasta</td>\n",
              "      <td>olive oil</td>\n",
              "      <td>0.008000</td>\n",
              "      <td>0.271493</td>\n",
              "      <td>4.130221</td>\n",
              "    </tr>\n",
              "    <tr>\n",
              "      <th>0</th>\n",
              "      <td>extra dark chocolate</td>\n",
              "      <td>chicken</td>\n",
              "      <td>0.002800</td>\n",
              "      <td>0.233333</td>\n",
              "      <td>3.888889</td>\n",
              "    </tr>\n",
              "    <tr>\n",
              "      <th>6</th>\n",
              "      <td>tomato sauce</td>\n",
              "      <td>ground beef</td>\n",
              "      <td>0.005333</td>\n",
              "      <td>0.377358</td>\n",
              "      <td>3.840147</td>\n",
              "    </tr>\n",
              "    <tr>\n",
              "      <th>2</th>\n",
              "      <td>mushroom cream sauce</td>\n",
              "      <td>escalope</td>\n",
              "      <td>0.005733</td>\n",
              "      <td>0.300699</td>\n",
              "      <td>3.790327</td>\n",
              "    </tr>\n",
              "    <tr>\n",
              "      <th>5</th>\n",
              "      <td>herb &amp; pepper</td>\n",
              "      <td>ground beef</td>\n",
              "      <td>0.016000</td>\n",
              "      <td>0.323450</td>\n",
              "      <td>3.291555</td>\n",
              "    </tr>\n",
              "    <tr>\n",
              "      <th>7</th>\n",
              "      <td>light cream</td>\n",
              "      <td>olive oil</td>\n",
              "      <td>0.003200</td>\n",
              "      <td>0.205128</td>\n",
              "      <td>3.120612</td>\n",
              "    </tr>\n",
              "  </tbody>\n",
              "</table>\n",
              "</div>"
            ],
            "text/plain": [
              "         Left Hand Side Right Hand Side   Support  Confidence      Lift\n",
              "4         fromage blanc           honey  0.003333    0.245098  5.178128\n",
              "1           light cream         chicken  0.004533    0.290598  4.843305\n",
              "3                 pasta        escalope  0.005867    0.372881  4.700185\n",
              "9                 pasta          shrimp  0.005067    0.322034  4.514494\n",
              "8     whole wheat pasta       olive oil  0.008000    0.271493  4.130221\n",
              "0  extra dark chocolate         chicken  0.002800    0.233333  3.888889\n",
              "6          tomato sauce     ground beef  0.005333    0.377358  3.840147\n",
              "2  mushroom cream sauce        escalope  0.005733    0.300699  3.790327\n",
              "5         herb & pepper     ground beef  0.016000    0.323450  3.291555\n",
              "7           light cream       olive oil  0.003200    0.205128  3.120612"
            ]
          },
          "metadata": {}
        }
      ]
    },
    {
      "cell_type": "code",
      "metadata": {
        "colab": {
          "base_uri": "https://localhost:8080/",
          "height": 357
        },
        "id": "eXRhvGVipvaS",
        "outputId": "ef60449a-a92e-4df5-c17f-f7efef689040"
      },
      "source": [
        "rules =  apriori(transactions,(3*7)/7500,0.2,3,2,2)\n",
        "display_Eclat(rules)"
      ],
      "execution_count": 68,
      "outputs": [
        {
          "output_type": "display_data",
          "data": {
            "text/html": [
              "<div>\n",
              "<style scoped>\n",
              "    .dataframe tbody tr th:only-of-type {\n",
              "        vertical-align: middle;\n",
              "    }\n",
              "\n",
              "    .dataframe tbody tr th {\n",
              "        vertical-align: top;\n",
              "    }\n",
              "\n",
              "    .dataframe thead th {\n",
              "        text-align: right;\n",
              "    }\n",
              "</style>\n",
              "<table border=\"1\" class=\"dataframe\">\n",
              "  <thead>\n",
              "    <tr style=\"text-align: right;\">\n",
              "      <th></th>\n",
              "      <th>Product 1</th>\n",
              "      <th>Product 2</th>\n",
              "      <th>Support</th>\n",
              "    </tr>\n",
              "  </thead>\n",
              "  <tbody>\n",
              "    <tr>\n",
              "      <th>5</th>\n",
              "      <td>herb &amp; pepper</td>\n",
              "      <td>ground beef</td>\n",
              "      <td>0.016000</td>\n",
              "    </tr>\n",
              "    <tr>\n",
              "      <th>8</th>\n",
              "      <td>whole wheat pasta</td>\n",
              "      <td>olive oil</td>\n",
              "      <td>0.008000</td>\n",
              "    </tr>\n",
              "    <tr>\n",
              "      <th>3</th>\n",
              "      <td>pasta</td>\n",
              "      <td>escalope</td>\n",
              "      <td>0.005867</td>\n",
              "    </tr>\n",
              "    <tr>\n",
              "      <th>2</th>\n",
              "      <td>mushroom cream sauce</td>\n",
              "      <td>escalope</td>\n",
              "      <td>0.005733</td>\n",
              "    </tr>\n",
              "    <tr>\n",
              "      <th>6</th>\n",
              "      <td>tomato sauce</td>\n",
              "      <td>ground beef</td>\n",
              "      <td>0.005333</td>\n",
              "    </tr>\n",
              "    <tr>\n",
              "      <th>9</th>\n",
              "      <td>pasta</td>\n",
              "      <td>shrimp</td>\n",
              "      <td>0.005067</td>\n",
              "    </tr>\n",
              "    <tr>\n",
              "      <th>1</th>\n",
              "      <td>light cream</td>\n",
              "      <td>chicken</td>\n",
              "      <td>0.004533</td>\n",
              "    </tr>\n",
              "    <tr>\n",
              "      <th>4</th>\n",
              "      <td>fromage blanc</td>\n",
              "      <td>honey</td>\n",
              "      <td>0.003333</td>\n",
              "    </tr>\n",
              "    <tr>\n",
              "      <th>7</th>\n",
              "      <td>light cream</td>\n",
              "      <td>olive oil</td>\n",
              "      <td>0.003200</td>\n",
              "    </tr>\n",
              "    <tr>\n",
              "      <th>0</th>\n",
              "      <td>extra dark chocolate</td>\n",
              "      <td>chicken</td>\n",
              "      <td>0.002800</td>\n",
              "    </tr>\n",
              "  </tbody>\n",
              "</table>\n",
              "</div>"
            ],
            "text/plain": [
              "              Product 1    Product 2   Support\n",
              "5         herb & pepper  ground beef  0.016000\n",
              "8     whole wheat pasta    olive oil  0.008000\n",
              "3                 pasta     escalope  0.005867\n",
              "2  mushroom cream sauce     escalope  0.005733\n",
              "6          tomato sauce  ground beef  0.005333\n",
              "9                 pasta       shrimp  0.005067\n",
              "1           light cream      chicken  0.004533\n",
              "4         fromage blanc        honey  0.003333\n",
              "7           light cream    olive oil  0.003200\n",
              "0  extra dark chocolate      chicken  0.002800"
            ]
          },
          "metadata": {}
        }
      ]
    },
    {
      "cell_type": "code",
      "metadata": {
        "colab": {
          "base_uri": "https://localhost:8080/"
        },
        "id": "lLRxlzuraQaD",
        "outputId": "cccbb428-561c-411e-95c1-27694c9437bf"
      },
      "source": [
        "#installing the library\n",
        "!pip install fpgrowth-py"
      ],
      "execution_count": 18,
      "outputs": [
        {
          "output_type": "stream",
          "name": "stdout",
          "text": [
            "Collecting fpgrowth-py\n",
            "  Downloading fpgrowth_py-1.0.0-py3-none-any.whl (5.6 kB)\n",
            "Installing collected packages: fpgrowth-py\n",
            "Successfully installed fpgrowth-py-1.0.0\n"
          ]
        }
      ]
    },
    {
      "cell_type": "code",
      "metadata": {
        "id": "ykiLWqwSZt-f"
      },
      "source": [
        "#this function deduces the rules based on the FP tree approach\n",
        "def FP_Growth(transactions,min_support,min_confidence):\n",
        "  from fpgrowth_py import fpgrowth\n",
        "  freqItemSet, rules = fpgrowth(transactions, minSupRatio=min_support, minConf=min_confidence)\n",
        "  return {'frequentItemSets':freqItemSet,'rules':rules}\n",
        "\n",
        "#now how to find the optimal value for min_support and min_confidence\n",
        "#trying with a set of differnt values"
      ],
      "execution_count": 27,
      "outputs": []
    },
    {
      "cell_type": "code",
      "metadata": {
        "id": "sclNv082ccLu"
      },
      "source": [
        "min_support=[(3*7)/7500,(4*7)/7500,(5*7)/7500,(6*7)/7500] # item should apper atleast 3,4,5,6 times in transcations done in a day\n",
        "min_confidence=[0.8,0.4,0.2]#starting with 0.8 and then decreasing the value each time\n",
        "rulesFP=[] #this will be a list containing all the rules\n",
        "valuesFP = [] #this will be coressponding values combination for the rules\n",
        "\n",
        "for support in min_support:\n",
        "  for confidence in min_confidence:\n",
        "    rule = FP_Growth(transactions,support,confidence)\n",
        "    rulesFP.append(rule)\n",
        "    value = {'min_support':support,'min_confidence':confidence}\n",
        "    valuesFP.append(value)\n",
        "\n",
        "#this takes quite a long time to execute so execute at your own risk"
      ],
      "execution_count": null,
      "outputs": []
    },
    {
      "cell_type": "code",
      "metadata": {
        "id": "NkUkOzbQXiw5"
      },
      "source": [
        "#this funnction will display the rules for the apriori model\n",
        "#this function takes a rule set as an argument\n",
        "#this is fora rule set with two elements\n",
        "def display_Aprori(rules,Rows:int=10):\n",
        "  results = list(rules)\n",
        "  if len(results) != 0:\n",
        "    resultsinDataFrame = pd.DataFrame(inspect(results), columns = ['Left Hand Side', 'Right Hand Side', 'Support', 'Confidence', 'Lift'])\n",
        "  # sorting the results in decreasing order based on the lift\n",
        "    resultsinDataFrame=resultsinDataFrame.nlargest(n = Rows, columns = 'Lift')\n",
        "    display(resultsinDataFrame)\n",
        "\n",
        "#this block is hard coded and is specific for a rule set containig only two elements\n",
        "def inspect(results):\n",
        "    lhs         = [tuple(result[2][0][0])[0] for result in results]\n",
        "    rhs         = [tuple(result[2][0][1])[0] for result in results]\n",
        "    supports    = [result[1] for result in results]\n",
        "    confidences = [result[2][0][2] for result in results]\n",
        "    lifts       = [result[2][0][3] for result in results]\n",
        "    return list(zip(lhs, rhs, supports, confidences, lifts))\n",
        "\n"
      ],
      "execution_count": 65,
      "outputs": []
    },
    {
      "cell_type": "code",
      "metadata": {
        "id": "ykgbaaR4Zjdo"
      },
      "source": [
        "#this funnction will display the rules for the eclat model\n",
        "#this function takes a rule set as an argument\n",
        "#this is also hard coded for a 2 item rule set\n",
        "def display_Eclat(rules,Rows:int=10):\n",
        "  results = list(rules)\n",
        "  if len(results) != 0:\n",
        "    resultsinDataFrame = pd.DataFrame(inspect(results), columns = ['Product 1', 'Product 2', 'Support'])\n",
        "  # sorting the results in decreasing order based on the lift\n",
        "    resultsinDataFrame=resultsinDataFrame.nlargest(n = Rows, columns = 'Support')\n",
        "    display(resultsinDataFrame)\n",
        "\n",
        "#this block is hard coded and is specific for a rule set containig only two elements\n",
        "def inspect(results):\n",
        "    lhs         = [tuple(result[2][0][0])[0] for result in results]\n",
        "    rhs         = [tuple(result[2][0][1])[0] for result in results]\n",
        "    supports    = [result[1] for result in results]\n",
        "    return list(zip(lhs, rhs, supports))\n"
      ],
      "execution_count": 67,
      "outputs": []
    },
    {
      "cell_type": "code",
      "metadata": {
        "id": "PLa954PvqCq6"
      },
      "source": [
        "#need to modify the result for more than two items rule sets"
      ],
      "execution_count": null,
      "outputs": []
    },
    {
      "cell_type": "code",
      "metadata": {
        "id": "VE5wo6JNd0x0"
      },
      "source": [
        "#this funnction will display the rules for the FP growth model\n",
        "#this function takes a rule set as an argument\n",
        "def display_FP(rules):\n",
        "  pass"
      ],
      "execution_count": null,
      "outputs": []
    },
    {
      "cell_type": "code",
      "metadata": {
        "id": "qxHYc7o_quIa"
      },
      "source": [
        "#test\n",
        "test =  apriori(transactions,(3*7)/7500,0.2,3,4,4)"
      ],
      "execution_count": 99,
      "outputs": []
    },
    {
      "cell_type": "code",
      "metadata": {
        "id": "ZhAcp9weqxmp"
      },
      "source": [
        "test=list(test)\n",
        "testing = test[34]"
      ],
      "execution_count": 100,
      "outputs": []
    },
    {
      "cell_type": "code",
      "metadata": {
        "colab": {
          "base_uri": "https://localhost:8080/",
          "height": 188
        },
        "id": "3PSyoOuZrL1O",
        "outputId": "ed3ae45a-c6d3-4058-81dc-ad891a44717c"
      },
      "source": [
        "display(testing)\n",
        "display(testing[0])\n",
        "display(testing[1])#this is the support value\n",
        "display(testing[2])\n",
        "display(testing[2][0])\n",
        "display(testing[2][0][0]) #this is the set of two values associated with the 1 element\n",
        "display(testing[2][0][1]) #this is the single associated value\n",
        "display(testing[2][0][2])#this is the confidence value\n",
        "display(testing[2][0][3])#this is the lift value\n",
        "\n",
        "\n",
        "  #observations let's say we have a rule of n elements\n",
        "  #than it signifies\n",
        "  #that n-1 elements is associated with 1 element\n",
        "#for eg if the rule set contains 3 elements that 2 of them will be a set which will be associated to the element in some way"
      ],
      "execution_count": 102,
      "outputs": [
        {
          "output_type": "display_data",
          "data": {
            "text/plain": [
              "RelationRecord(items=frozenset({'milk', 'soup', 'chocolate'}), support=0.004, ordered_statistics=[OrderedStatistic(items_base=frozenset({'soup', 'chocolate'}), items_add=frozenset({'milk'}), confidence=0.39473684210526316, lift=3.045808966861599)])"
            ]
          },
          "metadata": {}
        },
        {
          "output_type": "display_data",
          "data": {
            "text/plain": [
              "frozenset({'chocolate', 'milk', 'soup'})"
            ]
          },
          "metadata": {}
        },
        {
          "output_type": "display_data",
          "data": {
            "text/plain": [
              "0.004"
            ]
          },
          "metadata": {}
        },
        {
          "output_type": "display_data",
          "data": {
            "text/plain": [
              "[OrderedStatistic(items_base=frozenset({'soup', 'chocolate'}), items_add=frozenset({'milk'}), confidence=0.39473684210526316, lift=3.045808966861599)]"
            ]
          },
          "metadata": {}
        },
        {
          "output_type": "display_data",
          "data": {
            "text/plain": [
              "OrderedStatistic(items_base=frozenset({'soup', 'chocolate'}), items_add=frozenset({'milk'}), confidence=0.39473684210526316, lift=3.045808966861599)"
            ]
          },
          "metadata": {}
        },
        {
          "output_type": "display_data",
          "data": {
            "text/plain": [
              "frozenset({'chocolate', 'soup'})"
            ]
          },
          "metadata": {}
        },
        {
          "output_type": "display_data",
          "data": {
            "text/plain": [
              "frozenset({'milk'})"
            ]
          },
          "metadata": {}
        },
        {
          "output_type": "display_data",
          "data": {
            "text/plain": [
              "0.39473684210526316"
            ]
          },
          "metadata": {}
        },
        {
          "output_type": "display_data",
          "data": {
            "text/plain": [
              "3.045808966861599"
            ]
          },
          "metadata": {}
        }
      ]
    },
    {
      "cell_type": "code",
      "metadata": {
        "id": "okrD47-Nt4Uy"
      },
      "source": [
        "#this funnction will display the rules for the apriori model\n",
        "#this function takes a rule set as an argument\n",
        "#this is fora rule set with three elements\n",
        "def display_Aprori(rules,Rows:int=10):\n",
        "  results = list(rules)\n",
        "  if len(results) != 0:\n",
        "    resultsinDataFrame = pd.DataFrame(inspect(results), columns = ['Left Hand Side', 'Right Hand Side', 'Support', 'Confidence', 'Lift'])\n",
        "  # sorting the results in decreasing order based on the lift\n",
        "    resultsinDataFrame=resultsinDataFrame.nlargest(n = Rows, columns = 'Lift')\n",
        "    display(resultsinDataFrame)\n",
        "\n",
        "#this block is hard coded and is specific for a rule set containig more than elements\n",
        "def inspect(results):\n",
        "    lhs         = [tuple(result[2][0][0])[0] for result in results]\n",
        "    rhs         = [tuple(result[2][0][1])[0] for result in results]\n",
        "    supports    = [result[1] for result in results]\n",
        "    confidences = [result[2][0][2] for result in results]\n",
        "    lifts       = [result[2][0][3] for result in results]\n",
        "    return list(zip(lhs, rhs, supports, confidences, lifts))\n",
        "\n"
      ],
      "execution_count": null,
      "outputs": []
    },
    {
      "cell_type": "code",
      "metadata": {
        "id": "5tPGHIUgze4p"
      },
      "source": [
        "#this funnction will display the rules for the eclat model\n",
        "#this function takes a rule set as an argument\n",
        "#this is also hard coded for more than 2 items rule set\n",
        "def display_Eclat(rules,Rows:int=10):\n",
        "  results = list(rules)\n",
        "  if len(results) != 0:\n",
        "    resultsinDataFrame = pd.DataFrame(inspect(results), columns = ['Product Set', 'Product', 'Support'])\n",
        "  # sorting the results in decreasing order based on the lift\n",
        "    resultsinDataFrame=resultsinDataFrame.nlargest(n = Rows, columns = 'Support')\n",
        "    display(resultsinDataFrame)\n",
        "\n",
        "#this block is hard coded and is specific for a rule set containig more than two elements\n",
        "def inspect(results):\n",
        "    lhs         = [tuple(result[2][0][0])[0] for result in results]\n",
        "    rhs         = [tuple(result[2][0][1])[0] for result in results]\n",
        "    supports    = [result[1] for result in results]\n",
        "    return list(zip(lhs, rhs, supports))"
      ],
      "execution_count": 103,
      "outputs": []
    }
  ]
}